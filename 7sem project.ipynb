{
 "cells": [
  {
   "cell_type": "code",
   "execution_count": 42,
   "id": "bef1dfb1-4ed0-4d00-97d8-d6cd3d97aa06",
   "metadata": {},
   "outputs": [],
   "source": [
    "import os\n",
    "import tensorflow as tf\n",
    "from tensorflow.keras.models import Sequential\n",
    "from tensorflow.keras.layers import Conv2D, MaxPooling2D, Flatten, Dense, Dropout\n",
    "from tensorflow.keras.preprocessing.image import ImageDataGenerator\n",
    "import matplotlib.pyplot as plt"
   ]
  },
  {
   "cell_type": "code",
   "execution_count": 44,
   "id": "5e499dfb-4166-4335-83e6-4aa49c8fdb9f",
   "metadata": {},
   "outputs": [],
   "source": [
    "csv_path = r\"C:\\Users\\LENOVO\\Desktop\\7sem project\\Indian-Traffic Sign-Dataset\\traffic_sign.csv\"\n",
    "base_dir = r\"C:\\Users\\LENOVO\\Desktop\\7sem project\\Indian-Traffic Sign-Dataset\\Images\""
   ]
  },
  {
   "cell_type": "code",
   "execution_count": 48,
   "id": "f22d1baf-d5de-43a9-947e-750f387e75e8",
   "metadata": {},
   "outputs": [],
   "source": [
    "# Load CSV file\n",
    "label_mapping = pd.read_csv(csv_path)"
   ]
  },
  {
   "cell_type": "code",
   "execution_count": 50,
   "id": "1a91c3da-994e-48ad-9a9f-29b996873455",
   "metadata": {},
   "outputs": [],
   "source": [
    "class_mapping = {row[\"ClassId\"]: row[\"Name\"] for _, row in label_mapping.iterrows()}"
   ]
  },
  {
   "cell_type": "code",
   "execution_count": 52,
   "id": "d039a9cd-3f0c-4ba5-baec-5a43eb0d1860",
   "metadata": {},
   "outputs": [],
   "source": [
    "img_height, img_width = 64, 64  # Resize images to 64x64\n",
    "batch_size = 32\n",
    "epochs = 20"
   ]
  },
  {
   "cell_type": "code",
   "execution_count": 54,
   "id": "7188cd32-472b-4df9-a61d-95c331a2aea1",
   "metadata": {},
   "outputs": [
    {
     "name": "stdout",
     "output_type": "stream",
     "text": [
      "Found 11190 images belonging to 58 classes.\n",
      "Found 2781 images belonging to 58 classes.\n"
     ]
    }
   ],
   "source": [
    "train_datagen = ImageDataGenerator(\n",
    "    rescale=1.0 / 255,  # Normalize pixel values\n",
    "    validation_split=0.2  # Reserve 20% of data for validation\n",
    ")\n",
    "\n",
    "train_generator = train_datagen.flow_from_directory(\n",
    "    base_dir,\n",
    "    target_size=(img_height, img_width),\n",
    "    batch_size=batch_size,\n",
    "    class_mode='categorical',\n",
    "    subset='training',  # Training data\n",
    "    shuffle=True\n",
    ")\n",
    "validation_generator = train_datagen.flow_from_directory(\n",
    "    base_dir,\n",
    "    target_size=(img_height, img_width),\n",
    "    batch_size=batch_size,\n",
    "    class_mode='categorical',\n",
    "    subset='validation'  # Validation data\n",
    ")"
   ]
  },
  {
   "cell_type": "code",
   "execution_count": 56,
   "id": "28bae35f-abdf-468e-8ff4-f3f64c56fb64",
   "metadata": {},
   "outputs": [
    {
     "name": "stderr",
     "output_type": "stream",
     "text": [
      "C:\\Users\\LENOVO\\anaconda3\\Lib\\site-packages\\keras\\src\\layers\\convolutional\\base_conv.py:107: UserWarning: Do not pass an `input_shape`/`input_dim` argument to a layer. When using Sequential models, prefer using an `Input(shape)` object as the first layer in the model instead.\n",
      "  super().__init__(activity_regularizer=activity_regularizer, **kwargs)\n"
     ]
    }
   ],
   "source": [
    "model = Sequential([\n",
    "    Conv2D(32, (3, 3), activation='relu', input_shape=(img_height, img_width, 3)),\n",
    "    MaxPooling2D((2, 2)),\n",
    "    Conv2D(64, (3, 3), activation='relu'),\n",
    "    MaxPooling2D((2, 2)),\n",
    "    Flatten(),\n",
    "    Dense(128, activation='relu'),\n",
    "    Dropout(0.5),\n",
    "    Dense(train_generator.num_classes, activation='softmax')  # Output layer\n",
    "])"
   ]
  },
  {
   "cell_type": "code",
   "execution_count": 58,
   "id": "6cd7fb45-911a-4636-b913-1fa61b5783d4",
   "metadata": {},
   "outputs": [],
   "source": [
    "model.compile(optimizer='adam',\n",
    "              loss='categorical_crossentropy',\n",
    "              metrics=['accuracy'])"
   ]
  },
  {
   "cell_type": "code",
   "execution_count": 60,
   "id": "9c445ce4-3f42-46b4-91ac-3bb3d34fe176",
   "metadata": {},
   "outputs": [
    {
     "name": "stdout",
     "output_type": "stream",
     "text": [
      "Epoch 1/20\n"
     ]
    },
    {
     "name": "stderr",
     "output_type": "stream",
     "text": [
      "C:\\Users\\LENOVO\\anaconda3\\Lib\\site-packages\\keras\\src\\trainers\\data_adapters\\py_dataset_adapter.py:121: UserWarning: Your `PyDataset` class should call `super().__init__(**kwargs)` in its constructor. `**kwargs` can include `workers`, `use_multiprocessing`, `max_queue_size`. Do not pass these arguments to `fit()`, as they will be ignored.\n",
      "  self._warn_if_super_not_called()\n"
     ]
    },
    {
     "name": "stdout",
     "output_type": "stream",
     "text": [
      "\u001b[1m350/350\u001b[0m \u001b[32m━━━━━━━━━━━━━━━━━━━━\u001b[0m\u001b[37m\u001b[0m \u001b[1m37s\u001b[0m 93ms/step - accuracy: 0.1773 - loss: 3.3540 - val_accuracy: 0.5703 - val_loss: 1.6894\n",
      "Epoch 2/20\n",
      "\u001b[1m350/350\u001b[0m \u001b[32m━━━━━━━━━━━━━━━━━━━━\u001b[0m\u001b[37m\u001b[0m \u001b[1m21s\u001b[0m 59ms/step - accuracy: 0.5221 - loss: 1.6882 - val_accuracy: 0.6778 - val_loss: 1.1908\n",
      "Epoch 3/20\n",
      "\u001b[1m350/350\u001b[0m \u001b[32m━━━━━━━━━━━━━━━━━━━━\u001b[0m\u001b[37m\u001b[0m \u001b[1m21s\u001b[0m 59ms/step - accuracy: 0.6435 - loss: 1.2007 - val_accuracy: 0.7166 - val_loss: 1.0025\n",
      "Epoch 4/20\n",
      "\u001b[1m350/350\u001b[0m \u001b[32m━━━━━━━━━━━━━━━━━━━━\u001b[0m\u001b[37m\u001b[0m \u001b[1m22s\u001b[0m 63ms/step - accuracy: 0.7084 - loss: 0.9229 - val_accuracy: 0.7310 - val_loss: 0.9073\n",
      "Epoch 5/20\n",
      "\u001b[1m350/350\u001b[0m \u001b[32m━━━━━━━━━━━━━━━━━━━━\u001b[0m\u001b[37m\u001b[0m \u001b[1m22s\u001b[0m 62ms/step - accuracy: 0.7443 - loss: 0.7971 - val_accuracy: 0.7594 - val_loss: 0.8481\n",
      "Epoch 6/20\n",
      "\u001b[1m350/350\u001b[0m \u001b[32m━━━━━━━━━━━━━━━━━━━━\u001b[0m\u001b[37m\u001b[0m \u001b[1m22s\u001b[0m 63ms/step - accuracy: 0.7719 - loss: 0.6667 - val_accuracy: 0.7641 - val_loss: 0.8057\n",
      "Epoch 7/20\n",
      "\u001b[1m350/350\u001b[0m \u001b[32m━━━━━━━━━━━━━━━━━━━━\u001b[0m\u001b[37m\u001b[0m \u001b[1m20s\u001b[0m 56ms/step - accuracy: 0.7988 - loss: 0.6031 - val_accuracy: 0.7724 - val_loss: 0.7706\n",
      "Epoch 8/20\n",
      "\u001b[1m350/350\u001b[0m \u001b[32m━━━━━━━━━━━━━━━━━━━━\u001b[0m\u001b[37m\u001b[0m \u001b[1m22s\u001b[0m 62ms/step - accuracy: 0.8100 - loss: 0.5488 - val_accuracy: 0.7825 - val_loss: 0.7608\n",
      "Epoch 9/20\n",
      "\u001b[1m350/350\u001b[0m \u001b[32m━━━━━━━━━━━━━━━━━━━━\u001b[0m\u001b[37m\u001b[0m \u001b[1m21s\u001b[0m 58ms/step - accuracy: 0.8311 - loss: 0.4937 - val_accuracy: 0.7843 - val_loss: 0.7459\n",
      "Epoch 10/20\n",
      "\u001b[1m350/350\u001b[0m \u001b[32m━━━━━━━━━━━━━━━━━━━━\u001b[0m\u001b[37m\u001b[0m \u001b[1m20s\u001b[0m 56ms/step - accuracy: 0.8392 - loss: 0.4704 - val_accuracy: 0.7846 - val_loss: 0.7505\n",
      "Epoch 11/20\n",
      "\u001b[1m350/350\u001b[0m \u001b[32m━━━━━━━━━━━━━━━━━━━━\u001b[0m\u001b[37m\u001b[0m \u001b[1m20s\u001b[0m 56ms/step - accuracy: 0.8486 - loss: 0.4501 - val_accuracy: 0.7828 - val_loss: 0.7672\n",
      "Epoch 12/20\n",
      "\u001b[1m350/350\u001b[0m \u001b[32m━━━━━━━━━━━━━━━━━━━━\u001b[0m\u001b[37m\u001b[0m \u001b[1m20s\u001b[0m 56ms/step - accuracy: 0.8471 - loss: 0.4377 - val_accuracy: 0.7860 - val_loss: 0.7588\n",
      "Epoch 13/20\n",
      "\u001b[1m350/350\u001b[0m \u001b[32m━━━━━━━━━━━━━━━━━━━━\u001b[0m\u001b[37m\u001b[0m \u001b[1m20s\u001b[0m 56ms/step - accuracy: 0.8614 - loss: 0.4108 - val_accuracy: 0.7943 - val_loss: 0.7601\n",
      "Epoch 14/20\n",
      "\u001b[1m350/350\u001b[0m \u001b[32m━━━━━━━━━━━━━━━━━━━━\u001b[0m\u001b[37m\u001b[0m \u001b[1m20s\u001b[0m 57ms/step - accuracy: 0.8701 - loss: 0.3805 - val_accuracy: 0.8055 - val_loss: 0.7643\n",
      "Epoch 15/20\n",
      "\u001b[1m350/350\u001b[0m \u001b[32m━━━━━━━━━━━━━━━━━━━━\u001b[0m\u001b[37m\u001b[0m \u001b[1m20s\u001b[0m 56ms/step - accuracy: 0.8702 - loss: 0.3845 - val_accuracy: 0.7825 - val_loss: 0.8069\n",
      "Epoch 16/20\n",
      "\u001b[1m350/350\u001b[0m \u001b[32m━━━━━━━━━━━━━━━━━━━━\u001b[0m\u001b[37m\u001b[0m \u001b[1m20s\u001b[0m 56ms/step - accuracy: 0.8716 - loss: 0.3685 - val_accuracy: 0.7968 - val_loss: 0.7280\n",
      "Epoch 17/20\n",
      "\u001b[1m350/350\u001b[0m \u001b[32m━━━━━━━━━━━━━━━━━━━━\u001b[0m\u001b[37m\u001b[0m \u001b[1m20s\u001b[0m 57ms/step - accuracy: 0.8794 - loss: 0.3447 - val_accuracy: 0.8001 - val_loss: 0.7186\n",
      "Epoch 18/20\n",
      "\u001b[1m350/350\u001b[0m \u001b[32m━━━━━━━━━━━━━━━━━━━━\u001b[0m\u001b[37m\u001b[0m \u001b[1m20s\u001b[0m 57ms/step - accuracy: 0.8856 - loss: 0.3253 - val_accuracy: 0.8058 - val_loss: 0.7531\n",
      "Epoch 19/20\n",
      "\u001b[1m350/350\u001b[0m \u001b[32m━━━━━━━━━━━━━━━━━━━━\u001b[0m\u001b[37m\u001b[0m \u001b[1m20s\u001b[0m 57ms/step - accuracy: 0.8923 - loss: 0.3078 - val_accuracy: 0.8001 - val_loss: 0.7656\n",
      "Epoch 20/20\n",
      "\u001b[1m350/350\u001b[0m \u001b[32m━━━━━━━━━━━━━━━━━━━━\u001b[0m\u001b[37m\u001b[0m \u001b[1m20s\u001b[0m 57ms/step - accuracy: 0.8974 - loss: 0.3129 - val_accuracy: 0.8022 - val_loss: 0.7280\n"
     ]
    }
   ],
   "source": [
    "history = model.fit(\n",
    "    train_generator,\n",
    "    validation_data=validation_generator,\n",
    "    epochs=epochs\n",
    ")"
   ]
  },
  {
   "cell_type": "code",
   "execution_count": 68,
   "id": "ae9db3f2-c2c2-4794-9c8a-8e495deb288c",
   "metadata": {},
   "outputs": [],
   "source": [
    "model_save_path= r\"C:\\Users\\LENOVO\\Desktop\\7sem project\\Indian-Traffic Sign-Dataset\\traffic_sign_model_new.h5\""
   ]
  },
  {
   "cell_type": "code",
   "execution_count": 70,
   "id": "09ddeab7-c72d-4b11-8347-3d158b01a4c9",
   "metadata": {},
   "outputs": [
    {
     "name": "stderr",
     "output_type": "stream",
     "text": [
      "WARNING:absl:You are saving your model as an HDF5 file via `model.save()` or `keras.saving.save_model(model)`. This file format is considered legacy. We recommend using instead the native Keras format, e.g. `model.save('my_model.keras')` or `keras.saving.save_model(model, 'my_model.keras')`. \n"
     ]
    },
    {
     "name": "stdout",
     "output_type": "stream",
     "text": [
      "Model saved to C:\\Users\\LENOVO\\Desktop\\7sem project\\Indian-Traffic Sign-Dataset\\traffic_sign_model_new.h5\n"
     ]
    }
   ],
   "source": [
    "model.save(model_save_path)\n",
    "print(f\"Model saved to {model_save_path}\")"
   ]
  },
  {
   "cell_type": "code",
   "execution_count": 72,
   "id": "400ca296-faa7-4644-a606-b602e6c2e350",
   "metadata": {},
   "outputs": [
    {
     "name": "stdout",
     "output_type": "stream",
     "text": [
      "\u001b[1m87/87\u001b[0m \u001b[32m━━━━━━━━━━━━━━━━━━━━\u001b[0m\u001b[37m\u001b[0m \u001b[1m3s\u001b[0m 36ms/step - accuracy: 0.8013 - loss: 0.7099\n",
      "Validation Accuracy: 80.22%\n"
     ]
    }
   ],
   "source": [
    "val_loss, val_accuracy = model.evaluate(validation_generator)\n",
    "print(f\"Validation Accuracy: {val_accuracy * 100:.2f}%\")"
   ]
  },
  {
   "cell_type": "code",
   "execution_count": 74,
   "id": "78cdccfc-9776-4c3f-a6b2-ea9481418e9f",
   "metadata": {},
   "outputs": [
    {
     "name": "stdout",
     "output_type": "stream",
     "text": [
      "\u001b[1m87/87\u001b[0m \u001b[32m━━━━━━━━━━━━━━━━━━━━\u001b[0m\u001b[37m\u001b[0m \u001b[1m4s\u001b[0m 38ms/step\n"
     ]
    }
   ],
   "source": [
    "Y_pred = model.predict(validation_generator)\n",
    "y_pred = Y_pred.argmax(axis=1)\n",
    "y_true = validation_generator.classes"
   ]
  },
  {
   "cell_type": "code",
   "execution_count": 82,
   "id": "e167c605-968a-4120-9186-99e35613fc58",
   "metadata": {},
   "outputs": [],
   "source": [
    "num_classes = len(validation_generator.class_indices)  # Get number of classes\n",
    "target_names = [class_mapping[i] for i in range(num_classes)]"
   ]
  },
  {
   "cell_type": "code",
   "execution_count": 84,
   "id": "eed8113b-9411-46b7-b868-3e4508fb3d5a",
   "metadata": {},
   "outputs": [
    {
     "name": "stdout",
     "output_type": "stream",
     "text": [
      "\n",
      "Confusion Matrix\n",
      "[[1 0 0 ... 0 0 0]\n",
      " [0 1 0 ... 0 0 0]\n",
      " [1 0 1 ... 2 3 0]\n",
      " ...\n",
      " [0 0 0 ... 0 0 1]\n",
      " [0 2 2 ... 2 3 4]\n",
      " [0 1 0 ... 1 2 0]]\n"
     ]
    }
   ],
   "source": [
    "print(\"\\nConfusion Matrix\")\n",
    "print(confusion_matrix(y_true, y_pred))"
   ]
  },
  {
   "cell_type": "code",
   "execution_count": 86,
   "id": "111a474c-f8fa-49c2-8de3-8ba1959fbc32",
   "metadata": {},
   "outputs": [
    {
     "name": "stdout",
     "output_type": "stream",
     "text": [
      "\n",
      "Classification Report\n",
      "                                 precision    recall  f1-score   support\n",
      "\n",
      "                       Give way       0.03      0.03      0.03        40\n",
      "                       No entry       0.03      0.03      0.03        40\n",
      "                One-way traffic       0.03      0.03      0.03        40\n",
      "                One-way traffic       0.00      0.00      0.00        40\n",
      " No vehicles in both directions       0.03      0.03      0.03        40\n",
      "            No entry for cycles       0.03      0.03      0.03        40\n",
      "    No entry for goods vehicles       0.00      0.00      0.00        40\n",
      "       No entry for pedestrians       0.00      0.00      0.00        40\n",
      "     No entry for bullock carts       0.03      0.03      0.03        40\n",
      "        No entry for hand carts       0.03      0.03      0.03        40\n",
      "    No entry for motor vehicles       0.06      0.05      0.05        40\n",
      "                   Height limit       0.00      0.00      0.00        40\n",
      "                   Weight limit       0.04      0.05      0.04        40\n",
      "              Axle weight limit       0.02      0.03      0.03       120\n",
      "                   Length limit       0.00      0.00      0.00        40\n",
      "                   No left turn       0.00      0.00      0.00        40\n",
      "                  No right turn       0.00      0.00      0.00        40\n",
      "                  No overtaking       0.02      0.03      0.02        40\n",
      "  Maximum speed limit (90 km/h)       0.05      0.05      0.05        40\n",
      " Maximum speed limit (110 km/h)       0.00      0.00      0.00        40\n",
      "                Horn prohibited       0.00      0.00      0.00        40\n",
      "                     No parking       0.00      0.00      0.00        40\n",
      "                    No stopping       0.00      0.00      0.00        40\n",
      "                      Turn left       0.03      0.03      0.03        40\n",
      "                     Turn right       0.00      0.00      0.00        40\n",
      "                  Steep descent       0.03      0.03      0.03        40\n",
      "                   Steep ascent       0.03      0.03      0.03        40\n",
      "                    Narrow road       0.03      0.03      0.03        40\n",
      "                  Narrow bridge       0.00      0.00      0.00        40\n",
      "               Unprotected quay       0.03      0.03      0.03        40\n",
      "                      Road hump       0.00      0.00      0.00        40\n",
      "                            Dip       0.00      0.00      0.00        40\n",
      "                   Loose gravel       0.00      0.00      0.00        40\n",
      "                  Falling rocks       0.02      0.03      0.02        40\n",
      "                         Cattle       0.03      0.03      0.03        40\n",
      "                     Crossroads       0.03      0.03      0.03        40\n",
      "             Side road junction       0.02      0.03      0.02        40\n",
      "             Side road junction       0.00      0.00      0.00        40\n",
      "     Oblique side road junction       0.00      0.00      0.00        40\n",
      "     Oblique side road junction       0.02      0.03      0.02        40\n",
      "                     T-junction       0.00      0.00      0.00        40\n",
      "                     Y-junction       0.00      0.00      0.00        28\n",
      "   Staggered side road junction       0.00      0.00      0.00        33\n",
      "   Staggered side road junction       0.00      0.00      0.00        11\n",
      "                     Roundabout       0.03      0.03      0.03        64\n",
      "   Guarded level crossing ahead       0.00      0.00      0.00        38\n",
      " Unguarded level crossing ahead       0.06      0.07      0.06       120\n",
      "Level crossing countdown marker       0.05      0.05      0.05        44\n",
      "Level crossing countdown marker       0.03      0.03      0.03       121\n",
      "Level crossing countdown marker       0.06      0.06      0.06       120\n",
      "Level crossing countdown marker       0.04      0.04      0.04       123\n",
      "                        Parking       0.00      0.00      0.00        40\n",
      "                       Bus stop       0.00      0.00      0.00        40\n",
      "                 First aid post       0.02      0.03      0.03        39\n",
      "                      Telephone       0.03      0.03      0.03        40\n",
      "                Filling station       0.00      0.00      0.00        40\n",
      "                          Hotel       0.02      0.03      0.02       120\n",
      "                     Restaurant       0.00      0.00      0.00        40\n",
      "\n",
      "                       accuracy                           0.02      2781\n",
      "                      macro avg       0.02      0.02      0.02      2781\n",
      "                   weighted avg       0.02      0.02      0.02      2781\n",
      "\n"
     ]
    }
   ],
   "source": [
    "print(\"\\nClassification Report\")\n",
    "print(classification_report(y_true, y_pred, target_names=target_names))"
   ]
  },
  {
   "cell_type": "code",
   "execution_count": 88,
   "id": "d0592d7a-0a70-4070-8225-bb8b53ff9964",
   "metadata": {},
   "outputs": [
    {
     "data": {
      "text/plain": [
       "<Figure size 1200x400 with 0 Axes>"
      ]
     },
     "execution_count": 88,
     "metadata": {},
     "output_type": "execute_result"
    },
    {
     "data": {
      "text/plain": [
       "<Figure size 1200x400 with 0 Axes>"
      ]
     },
     "metadata": {},
     "output_type": "display_data"
    }
   ],
   "source": [
    "plt.figure(figsize=(12, 4))"
   ]
  },
  {
   "cell_type": "code",
   "execution_count": 90,
   "id": "571144e6-763e-4178-b2fc-72ab6ad7089d",
   "metadata": {},
   "outputs": [
    {
     "data": {
      "text/plain": [
       "<matplotlib.legend.Legend at 0x1ecdafb6c90>"
      ]
     },
     "execution_count": 90,
     "metadata": {},
     "output_type": "execute_result"
    },
    {
     "data": {
      "image/png": "[encoded data removed]",
      "text/plain": [
       "<Figure size 640x480 with 1 Axes>"
      ]
     },
     "metadata": {},
     "output_type": "display_data"
    }
   ],
   "source": [
    "plt.subplot(1, 2, 1)\n",
    "plt.plot(history.history['accuracy'], label='Training Accuracy')\n",
    "plt.plot(history.history['val_accuracy'], label='Validation Accuracy')\n",
    "plt.title('Model Accuracy')\n",
    "plt.xlabel('Epochs')\n",
    "plt.ylabel('Accuracy')\n",
    "plt.legend()"
   ]
  },
  {
   "cell_type": "code",
   "execution_count": 94,
   "id": "9cce7051-39d8-41b0-ba0a-7ea936bc127e",
   "metadata": {},
   "outputs": [
    {
     "data": {
      "text/plain": [
       "<Figure size 640x480 with 0 Axes>"
      ]
     },
     "metadata": {},
     "output_type": "display_data"
    }
   ],
   "source": [
    "plt.tight_layout()\n",
    "plt.show()"
   ]
  },
  {
   "cell_type": "code",
   "execution_count": null,
   "id": "92630d57-26e8-4c6d-a4c2-fbfc44630321",
   "metadata": {},
   "outputs": [],
   "source": []
  }
 ],
 "metadata": {
  "kernelspec": {
   "display_name": "Python 3 (ipykernel)",
   "language": "python",
   "name": "python3"
  },
  "language_info": {
   "codemirror_mode": {
    "name": "ipython",
    "version": 3
   },
   "file_extension": ".py",
   "mimetype": "text/x-python",
   "name": "python",
   "nbconvert_exporter": "python",
   "pygments_lexer": "ipython3",
   "version": "3.11.7"
  }
 },
 "nbformat": 4,
 "nbformat_minor": 5
}
